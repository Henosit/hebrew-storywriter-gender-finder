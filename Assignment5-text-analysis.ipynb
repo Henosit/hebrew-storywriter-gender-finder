{
 "cells": [
  {
   "cell_type": "markdown",
   "metadata": {},
   "source": [
    "# Assignment 5 - Text Analysis\n",
    "An explanation this assignment could be found in the .pdf explanation document"
   ]
  },
  {
   "cell_type": "markdown",
   "metadata": {},
   "source": [
    "Submitted by Chen Moasis"
   ]
  },
  {
   "cell_type": "markdown",
   "metadata": {},
   "source": [
    "\n",
    "## Materials to review for this assignment\n",
    "<h4>From Moodle:</h4> \n",
    "<h5><u>Review the notebooks regarding the following python topics</u>:</h5>\n",
    "<div class=\"alert alert-info\">\n",
    "&#x2714; <b>Working with strings</b> (tutorial notebook)<br/>\n",
    "&#x2714; <b>Text Analysis</b> (tutorial notebook)<br/>\n",
    "&#x2714; <b>Hebrew text analysis tools (tokenizer, wordnet)</b> (moodle example)<br/>\n",
    "&#x2714; <b>(brief review) All previous notebooks</b><br/>\n",
    "</div> \n",
    "<h5><u>Review the presentations regarding the following topics</u>:</h5>\n",
    "<div class=\"alert alert-info\">\n",
    "&#x2714; <b>Text Analysis</b> (lecture presentation)<br/>\n",
    "&#x2714; <b>(brief review) All other presentations</b><br/>\n",
    "</div>"
   ]
  },
  {
   "cell_type": "markdown",
   "metadata": {},
   "source": [
    "## Preceding Step - import modules (packages)\n",
    "This step is necessary in order to use external modules (packages). <br/>"
   ]
  },
  {
   "cell_type": "code",
   "execution_count": 1,
   "metadata": {},
   "outputs": [],
   "source": [
    "# --------------------------------------\n",
    "import pandas as pd\n",
    "import numpy as np\n",
    "# --------------------------------------\n",
    "\n",
    "\n",
    "# --------------------------------------\n",
    "# ------------- visualizations:\n",
    "import seaborn as sns\n",
    "import matplotlib.pyplot as plt\n",
    "from matplotlib.colors import ListedColormap\n",
    "# --------------------------------------\n",
    "\n",
    "\n",
    "# ---------------------------------------\n",
    "import sklearn\n",
    "from sklearn import preprocessing, metrics, pipeline, model_selection, feature_extraction \n",
    "from sklearn import naive_bayes, linear_model, svm, neural_network, neighbors, tree\n",
    "from sklearn import decomposition, cluster\n",
    "\n",
    "from sklearn.model_selection import train_test_split, cross_val_score, GridSearchCV \n",
    "from sklearn.pipeline import Pipeline\n",
    "from sklearn.metrics import accuracy_score, confusion_matrix\n",
    "from sklearn.metrics import precision_score, recall_score, f1_score\n",
    "from sklearn.metrics import mean_squared_error, r2_score, silhouette_score\n",
    "from sklearn.preprocessing import MinMaxScaler, StandardScaler, LabelEncoder\n",
    "\n",
    "from sklearn.svm import LinearSVC\n",
    "from sklearn.neural_network import MLPClassifier\n",
    "from sklearn.linear_model import Perceptron, SGDClassifier\n",
    "from sklearn.decomposition import PCA\n",
    "from sklearn.cluster import KMeans\n",
    "from sklearn.naive_bayes import MultinomialNB, GaussianNB\n",
    "from sklearn.neighbors import KNeighborsClassifier\n",
    "from sklearn.tree import DecisionTreeClassifier\n",
    "\n",
    "#NOT INCLUDED IN ORIGINAL LIST but are from sklearn\n",
    "from sklearn.linear_model import LogisticRegression\n",
    "from sklearn.preprocessing import MaxAbsScaler\n",
    "from sklearn.model_selection import StratifiedKFold\n",
    "from sklearn.metrics import make_scorer\n",
    "# ---------------------------------------\n",
    "\n",
    "\n",
    "# ----------------- output and visualizations: \n",
    "import warnings\n",
    "from sklearn.exceptions import ConvergenceWarning\n",
    "warnings.simplefilter(\"ignore\")\n",
    "warnings.simplefilter(action='ignore', category=FutureWarning)\n",
    "warnings.simplefilter(\"ignore\", category=ConvergenceWarning)\n",
    "# show several prints in one cell. This will allow us to condence every trick in one cell.\n",
    "from IPython.core.interactiveshell import InteractiveShell\n",
    "InteractiveShell.ast_node_interactivity = \"all\"\n",
    "%matplotlib inline\n",
    "pd.pandas.set_option('display.max_columns', None)\n",
    "pd.set_option('display.float_format', lambda x: '%.3f' % x)\n",
    "# ---------------------------------------"
   ]
  },
  {
   "cell_type": "markdown",
   "metadata": {},
   "source": [
    "#### Explanation about sklearn imports that were added:\n",
    "#### Logistic Regression: \n",
    "A statistical method used for binary classification problems, where the goal is to predict whether an instance belongs to one of two possible classes. It models the probability of the positive class using a sigmoid function, and learns the optimal weights that minimize the binary cross-entropy loss.\n",
    "\n",
    "#### MaxAbsScaler: \n",
    "A data preprocessing technique used to scale the features of a dataset to a range between -1 and 1, by dividing each value by the maximum absolute value of the corresponding feature. It's useful for sparse datasets or features with different scales, as it preserves the sparsity and does not shift the distribution. It's commonly used in conjunction with linear models, such as logistic regression or support vector machines, that assume standardized features.\n",
    "\n",
    "#### StratifiedKFold:\n",
    "A cross-validation technique that divides a dataset into K folds while preserving the original class distribution. It ensures a fair evaluation of models on imbalanced datasets. By training the model K times on different folds, it provides robust performance estimation.\n",
    "\n",
    "\n",
    "#### MakeScorer: \n",
    "A function in scikit-learn that converts a performance metric function into a scorer object that can be used for model evaluation. It allows you to customize the scoring metric and parameters, such as average method for multi-class problems. The scorer object can be used with cross-validation or grid search functions to assess and compare models based on the specified metric."
   ]
  },
  {
   "cell_type": "markdown",
   "metadata": {},
   "source": [
    "### Text analysis and String manipulation imports:"
   ]
  },
  {
   "cell_type": "code",
   "execution_count": 2,
   "metadata": {},
   "outputs": [],
   "source": [
    "# --------------------------------------\n",
    "# --------- Text analysis and Hebrew text analysis imports:\n",
    "# vectorizers:\n",
    "from sklearn.feature_extraction import text\n",
    "from sklearn.feature_extraction.text import CountVectorizer, TfidfVectorizer\n",
    "\n",
    "# regular expressions:\n",
    "import re\n",
    "# --------------------------------------"
   ]
  },
  {
   "cell_type": "markdown",
   "metadata": {},
   "source": [
    "### (optional) Hebrew text analysis - WordNet (for Hebrew)\n",
    "Note: the WordNet is not a must"
   ]
  },
  {
   "cell_type": "markdown",
   "metadata": {},
   "source": [
    "#### (optional) Only if you didn't install Wordnet (for Hebrew) use:"
   ]
  },
  {
   "cell_type": "code",
   "execution_count": 3,
   "metadata": {},
   "outputs": [],
   "source": [
    "# word net installation:\n",
    "\n",
    "# unmark if you want to use and need to install\n",
    "# !pip install wn\n",
    "# !python -m wn download omw-he:1.4"
   ]
  },
  {
   "cell_type": "code",
   "execution_count": 4,
   "metadata": {},
   "outputs": [],
   "source": [
    "# word net import:\n",
    "\n",
    "# unmark if you want to use:\n",
    "# import wn"
   ]
  },
  {
   "cell_type": "markdown",
   "metadata": {},
   "source": [
    "### (optional) Hebrew text analysis - hebrew_tokenizer (Tokenizer for Hebrew)\n",
    "Note: the hebrew_tokenizer is not a must"
   ]
  },
  {
   "cell_type": "markdown",
   "metadata": {},
   "source": [
    "#### (optional) Only if you didn't install hebrew_tokenizer use:"
   ]
  },
  {
   "cell_type": "code",
   "execution_count": 5,
   "metadata": {},
   "outputs": [],
   "source": [
    "# Hebrew tokenizer installation:\n",
    "\n",
    "# unmark if you want to use and need to install:\n",
    "# !pip install hebrew_tokenizer"
   ]
  },
  {
   "cell_type": "code",
   "execution_count": 6,
   "metadata": {},
   "outputs": [
    {
     "name": "stdout",
     "output_type": "stream",
     "text": [
      "C:\\Users\\חנושית\\Downloads\n"
     ]
    }
   ],
   "source": [
    "# Hebrew tokenizer import:\n",
    "\n",
    "# unmark if you want to use:\n",
    "import hebrew_tokenizer as ht"
   ]
  },
  {
   "cell_type": "markdown",
   "metadata": {},
   "source": [
    "### Reading input files\n",
    "Reading input files for train annotated corpus (raw text data) corpus and for the test corpus"
   ]
  },
  {
   "cell_type": "code",
   "execution_count": 7,
   "metadata": {},
   "outputs": [],
   "source": [
    "train_filename = 'annotated_corpus_for_train.csv'\n",
    "test_filename  = 'corpus_for_test.csv'\n",
    "df_train = pd.read_csv(train_filename, index_col=None, encoding='utf-8')\n",
    "df_test  = pd.read_csv(test_filename, index_col=None, encoding='utf-8')"
   ]
  },
  {
   "cell_type": "code",
   "execution_count": 8,
   "metadata": {},
   "outputs": [
    {
     "data": {
      "text/html": [
       "<div>\n",
       "<style scoped>\n",
       "    .dataframe tbody tr th:only-of-type {\n",
       "        vertical-align: middle;\n",
       "    }\n",
       "\n",
       "    .dataframe tbody tr th {\n",
       "        vertical-align: top;\n",
       "    }\n",
       "\n",
       "    .dataframe thead th {\n",
       "        text-align: right;\n",
       "    }\n",
       "</style>\n",
       "<table border=\"1\" class=\"dataframe\">\n",
       "  <thead>\n",
       "    <tr style=\"text-align: right;\">\n",
       "      <th></th>\n",
       "      <th>story</th>\n",
       "      <th>gender</th>\n",
       "    </tr>\n",
       "  </thead>\n",
       "  <tbody>\n",
       "    <tr>\n",
       "      <th>0</th>\n",
       "      <td>כשחבר הזמין אותי לחול, לא באמת חשבתי שזה יקרה,...</td>\n",
       "      <td>m</td>\n",
       "    </tr>\n",
       "    <tr>\n",
       "      <th>1</th>\n",
       "      <td>לפני שהתגייסתי לצבא עשיתי כל מני מיונים ליחידו...</td>\n",
       "      <td>m</td>\n",
       "    </tr>\n",
       "    <tr>\n",
       "      <th>2</th>\n",
       "      <td>מאז שהתחילו הלימודים חלומו של כל סטודנט זה הפנ...</td>\n",
       "      <td>f</td>\n",
       "    </tr>\n",
       "    <tr>\n",
       "      <th>3</th>\n",
       "      <td>כשהייתי ילד, מטוסים היה הדבר שהכי ריתק אותי. ב...</td>\n",
       "      <td>m</td>\n",
       "    </tr>\n",
       "    <tr>\n",
       "      <th>4</th>\n",
       "      <td>‏הייתי מדריכה בכפר נוער ומתאם הכפר היינו צריכי...</td>\n",
       "      <td>f</td>\n",
       "    </tr>\n",
       "    <tr>\n",
       "      <th>5</th>\n",
       "      <td>לפני כ3 חודשים טסתי לרומא למשך שבוע. טסתי במטו...</td>\n",
       "      <td>f</td>\n",
       "    </tr>\n",
       "    <tr>\n",
       "      <th>6</th>\n",
       "      <td>אני כבר שנתיים נשוי והשנה אני ואישתי סוף סוף י...</td>\n",
       "      <td>m</td>\n",
       "    </tr>\n",
       "    <tr>\n",
       "      <th>7</th>\n",
       "      <td>השנה התחלנו שיפוץ בדירה שלנו בתל אביב. הדירה ה...</td>\n",
       "      <td>f</td>\n",
       "    </tr>\n",
       "  </tbody>\n",
       "</table>\n",
       "</div>"
      ],
      "text/plain": [
       "                                               story gender\n",
       "0  כשחבר הזמין אותי לחול, לא באמת חשבתי שזה יקרה,...      m\n",
       "1  לפני שהתגייסתי לצבא עשיתי כל מני מיונים ליחידו...      m\n",
       "2  מאז שהתחילו הלימודים חלומו של כל סטודנט זה הפנ...      f\n",
       "3  כשהייתי ילד, מטוסים היה הדבר שהכי ריתק אותי. ב...      m\n",
       "4  ‏הייתי מדריכה בכפר נוער ומתאם הכפר היינו צריכי...      f\n",
       "5  לפני כ3 חודשים טסתי לרומא למשך שבוע. טסתי במטו...      f\n",
       "6  אני כבר שנתיים נשוי והשנה אני ואישתי סוף סוף י...      m\n",
       "7  השנה התחלנו שיפוץ בדירה שלנו בתל אביב. הדירה ה...      f"
      ]
     },
     "execution_count": 8,
     "metadata": {},
     "output_type": "execute_result"
    },
    {
     "data": {
      "text/plain": [
       "(753, 2)"
      ]
     },
     "execution_count": 8,
     "metadata": {},
     "output_type": "execute_result"
    }
   ],
   "source": [
    "df_train.head(8)\n",
    "df_train.shape"
   ]
  },
  {
   "cell_type": "code",
   "execution_count": 9,
   "metadata": {},
   "outputs": [
    {
     "data": {
      "text/plain": [
       "m    575\n",
       "f    178\n",
       "Name: gender, dtype: int64"
      ]
     },
     "execution_count": 9,
     "metadata": {},
     "output_type": "execute_result"
    }
   ],
   "source": [
    "df_train['gender'].value_counts()"
   ]
  },
  {
   "cell_type": "code",
   "execution_count": 10,
   "metadata": {},
   "outputs": [
    {
     "data": {
      "text/html": [
       "<div>\n",
       "<style scoped>\n",
       "    .dataframe tbody tr th:only-of-type {\n",
       "        vertical-align: middle;\n",
       "    }\n",
       "\n",
       "    .dataframe tbody tr th {\n",
       "        vertical-align: top;\n",
       "    }\n",
       "\n",
       "    .dataframe thead th {\n",
       "        text-align: right;\n",
       "    }\n",
       "</style>\n",
       "<table border=\"1\" class=\"dataframe\">\n",
       "  <thead>\n",
       "    <tr style=\"text-align: right;\">\n",
       "      <th></th>\n",
       "      <th>test_example_id</th>\n",
       "      <th>story</th>\n",
       "    </tr>\n",
       "  </thead>\n",
       "  <tbody>\n",
       "    <tr>\n",
       "      <th>0</th>\n",
       "      <td>0</td>\n",
       "      <td>כל קיץ אני והמשפחה נוסעים לארצות הברית לוס אנג...</td>\n",
       "    </tr>\n",
       "    <tr>\n",
       "      <th>1</th>\n",
       "      <td>1</td>\n",
       "      <td>הגעתי לשירות המדינה אחרי שנתיים כפעיל בתנועת \"...</td>\n",
       "    </tr>\n",
       "    <tr>\n",
       "      <th>2</th>\n",
       "      <td>2</td>\n",
       "      <td>אחת האהבות הגדולות שלי אלו הכלבים שלי ושל אישת...</td>\n",
       "    </tr>\n",
       "  </tbody>\n",
       "</table>\n",
       "</div>"
      ],
      "text/plain": [
       "   test_example_id                                              story\n",
       "0                0  כל קיץ אני והמשפחה נוסעים לארצות הברית לוס אנג...\n",
       "1                1  הגעתי לשירות המדינה אחרי שנתיים כפעיל בתנועת \"...\n",
       "2                2  אחת האהבות הגדולות שלי אלו הכלבים שלי ושל אישת..."
      ]
     },
     "execution_count": 10,
     "metadata": {},
     "output_type": "execute_result"
    },
    {
     "data": {
      "text/plain": [
       "(323, 2)"
      ]
     },
     "execution_count": 10,
     "metadata": {},
     "output_type": "execute_result"
    }
   ],
   "source": [
    "df_test.head(3)\n",
    "df_test.shape"
   ]
  },
  {
   "cell_type": "markdown",
   "metadata": {},
   "source": [
    "### Your implementation:\n",
    "Write your code solution in the following code-cells"
   ]
  },
  {
   "cell_type": "code",
   "execution_count": 11,
   "metadata": {},
   "outputs": [],
   "source": [
    "def clean_text(text):\n",
    "    # Remove numbers, spaces, and leading/trailing spaces\n",
    "    text = re.sub(r'\\d+', '', text)\n",
    "    # Remove non-Hebrew letters\n",
    "    text = re.sub(r'[^\\u0590-\\u05FF\\s]', '', text)\n",
    "    # Replace consecutive spaces with a single space\n",
    "    text = re.sub(r'\\s+', ' ', text)\n",
    "    # Strip leading/trailing spaces\n",
    "    text = text.strip()\n",
    "    return text"
   ]
  },
  {
   "cell_type": "code",
   "execution_count": 12,
   "metadata": {},
   "outputs": [],
   "source": [
    "def tokenize_hebrew_text(text):\n",
    "    tokens = ht.tokenize(text)\n",
    "    return [token for _, token, _, _ in tokens]"
   ]
  },
  {
   "cell_type": "code",
   "execution_count": 13,
   "metadata": {},
   "outputs": [],
   "source": [
    "models_params = {\n",
    "        'Perceptron': {\n",
    "        'vectorizer': [TfidfVectorizer(ngram_range=(1,3),min_df=5, max_df=435,tokenizer=tokenize_hebrew_text)],\n",
    "        'scaler': [StandardScaler(with_mean=False)],\n",
    "        'classifier': [Perceptron(penalty='l1')]\n",
    "        },\n",
    "       'lr': {\n",
    "        'vectorizer': [TfidfVectorizer(tokenizer=tokenize_hebrew_text, min_df=5,max_df=428)],\n",
    "        'vectorizer__max_features': [2000],\n",
    "        'vectorizer__ngram_range': [(1, 1)],\n",
    "        'scaler': [StandardScaler(with_mean=False)],\n",
    "        'classifier': [LogisticRegression(class_weight='balanced')],\n",
    "        'classifier__penalty': ['l2']\n",
    "        },\n",
    "        'nb': {\n",
    "        'vectorizer': [CountVectorizer(tokenizer=tokenize_hebrew_text,min_df=5, max_df=400)],\n",
    "        'vectorizer__max_features':[1000],\n",
    "        'vectorizer__ngram_range': [(1, 2)],\n",
    "        'scaler': [StandardScaler(with_mean=False)],\n",
    "        'classifier': [MultinomialNB()],\n",
    "        'classifier__alpha': [0.01],\n",
    "        },\n",
    "        'MLPClassifier': {\n",
    "        'vectorizer': [TfidfVectorizer(tokenizer=tokenize_hebrew_text)],\n",
    "        'vectorizer__max_features':[800],\n",
    "        'vectorizer__ngram_range': [(1, 2)],\n",
    "        'scaler': [MaxAbsScaler()],\n",
    "        'classifier': [MLPClassifier()],\n",
    "        'classifier__activation': ['logistic', 'tanh', 'relu'],\n",
    "        'classifier__solver': ['lbfgs'],\n",
    "        'classifier__alpha': [0.0001]\n",
    "        },\n",
    "        'LinearSVC': {\n",
    "        'vectorizer': [CountVectorizer(tokenizer=tokenize_hebrew_text,min_df=5, max_df=435), TfidfVectorizer(tokenizer=tokenize_hebrew_text)],\n",
    "        'vectorizer__ngram_range': [(1, 1), (1, 2),(1,3)],\n",
    "        'scaler': [StandardScaler(with_mean=False), MinMaxScaler(), MaxAbsScaler()],\n",
    "        'classifier': [LinearSVC()],\n",
    "        'classifier__C': [0.01, 1, 10],\n",
    "        'classifier__penalty': ['l2'],\n",
    "        'classifier__tol': [0.001],\n",
    "        },\n",
    "     'knn': {\n",
    "        'vectorizer': [CountVectorizer(tokenizer=tokenize_hebrew_text,min_df=5, max_df=435), TfidfVectorizer(tokenizer=tokenize_hebrew_text)],\n",
    "        'vectorizer__max_features':[None, 1000],\n",
    "        'vectorizer__ngram_range': [(1, 1), (1, 2),(1,3)],\n",
    "        'scaler': [StandardScaler(with_mean=False), MinMaxScaler(), MaxAbsScaler()],\n",
    "        'classifier': [KNeighborsClassifier()],\n",
    "        'classifier__n_neighbors': [5, 50],\n",
    "        'classifier__p': [1, 2]\n",
    "        },\n",
    "    'cart': {\n",
    "        'vectorizer': [CountVectorizer(tokenizer=tokenize_hebrew_text,min_df=5, max_df=500)],\n",
    "        'vectorizer__max_features':[None],\n",
    "        'vectorizer__ngram_range': [(1,3)],\n",
    "        'scaler': [StandardScaler(with_mean=False)],\n",
    "        'classifier': [DecisionTreeClassifier()],\n",
    "    },\n",
    "}"
   ]
  },
  {
   "cell_type": "code",
   "execution_count": 14,
   "metadata": {},
   "outputs": [
    {
     "name": "stdout",
     "output_type": "stream",
     "text": [
      "\n",
      "-------------Grid search for Perceptron:-------------\n",
      "\n",
      "Fitting 5 folds for each of 1 candidates, totalling 5 fits\n"
     ]
    },
    {
     "data": {
      "text/plain": [
       "GridSearchCV(cv=StratifiedKFold(n_splits=5, random_state=None, shuffle=False),\n",
       "             estimator=Pipeline(steps=[('vectorizer', None), ('scaler', None),\n",
       "                                       ('classifier', None)]),\n",
       "             n_jobs=10,\n",
       "             param_grid={'classifier': [Perceptron(penalty='l1')],\n",
       "                         'scaler': [StandardScaler(with_mean=False)],\n",
       "                         'vectorizer': [TfidfVectorizer(max_df=435, min_df=5,\n",
       "                                                        ngram_range=(1, 3),\n",
       "                                                        tokenizer=<function tokenize_hebrew_text at 0x0000020451D87310>)]},\n",
       "             scoring=make_scorer(f1_score, average=macro), verbose=1)"
      ]
     },
     "execution_count": 14,
     "metadata": {},
     "output_type": "execute_result"
    },
    {
     "name": "stdout",
     "output_type": "stream",
     "text": [
      "Best hyperparameters: {'classifier': Perceptron(penalty='l1'), 'scaler': StandardScaler(with_mean=False), 'vectorizer': TfidfVectorizer(max_df=435, min_df=5, ngram_range=(1, 3),\n",
      "                tokenizer=<function tokenize_hebrew_text at 0x0000020451D87310>)}\n",
      "Cross-validated F1 macro mean score: 0.718\n",
      "\n",
      "--------------------------------------------------------\n",
      "\n",
      "\n",
      "-------------Grid search for lr:-------------\n",
      "\n",
      "Fitting 5 folds for each of 1 candidates, totalling 5 fits\n"
     ]
    },
    {
     "data": {
      "text/plain": [
       "GridSearchCV(cv=StratifiedKFold(n_splits=5, random_state=None, shuffle=False),\n",
       "             estimator=Pipeline(steps=[('vectorizer', None), ('scaler', None),\n",
       "                                       ('classifier', None)]),\n",
       "             n_jobs=10,\n",
       "             param_grid={'classifier': [LogisticRegression(class_weight='balanced')],\n",
       "                         'classifier__penalty': ['l2'],\n",
       "                         'scaler': [StandardScaler(with_mean=False)],\n",
       "                         'vectorizer': [TfidfVectorizer(max_df=428,\n",
       "                                                        max_features=2000,\n",
       "                                                        min_df=5,\n",
       "                                                        tokenizer=<function tokenize_hebrew_text at 0x0000020451D87310>)],\n",
       "                         'vectorizer__max_features': [2000],\n",
       "                         'vectorizer__ngram_range': [(1, 1)]},\n",
       "             scoring=make_scorer(f1_score, average=macro), verbose=1)"
      ]
     },
     "execution_count": 14,
     "metadata": {},
     "output_type": "execute_result"
    },
    {
     "name": "stdout",
     "output_type": "stream",
     "text": [
      "Best hyperparameters: {'classifier': LogisticRegression(class_weight='balanced'), 'classifier__penalty': 'l2', 'scaler': StandardScaler(with_mean=False), 'vectorizer': TfidfVectorizer(max_df=428, max_features=2000, min_df=5,\n",
      "                tokenizer=<function tokenize_hebrew_text at 0x0000020451D87310>), 'vectorizer__max_features': 2000, 'vectorizer__ngram_range': (1, 1)}\n",
      "Cross-validated F1 macro mean score: 0.699\n",
      "\n",
      "--------------------------------------------------------\n",
      "\n",
      "\n",
      "-------------Grid search for nb:-------------\n",
      "\n",
      "Fitting 5 folds for each of 1 candidates, totalling 5 fits\n"
     ]
    },
    {
     "data": {
      "text/plain": [
       "GridSearchCV(cv=StratifiedKFold(n_splits=5, random_state=None, shuffle=False),\n",
       "             estimator=Pipeline(steps=[('vectorizer', None), ('scaler', None),\n",
       "                                       ('classifier', None)]),\n",
       "             n_jobs=10,\n",
       "             param_grid={'classifier': [MultinomialNB(alpha=0.01)],\n",
       "                         'classifier__alpha': [0.01],\n",
       "                         'scaler': [StandardScaler(with_mean=False)],\n",
       "                         'vectorizer': [CountVectorizer(max_df=400,\n",
       "                                                        max_features=1000,\n",
       "                                                        min_df=5,\n",
       "                                                        ngram_range=(1, 2),\n",
       "                                                        tokenizer=<function tokenize_hebrew_text at 0x0000020451D87310>)],\n",
       "                         'vectorizer__max_features': [1000],\n",
       "                         'vectorizer__ngram_range': [(1, 2)]},\n",
       "             scoring=make_scorer(f1_score, average=macro), verbose=1)"
      ]
     },
     "execution_count": 14,
     "metadata": {},
     "output_type": "execute_result"
    },
    {
     "name": "stdout",
     "output_type": "stream",
     "text": [
      "Best hyperparameters: {'classifier': MultinomialNB(alpha=0.01), 'classifier__alpha': 0.01, 'scaler': StandardScaler(with_mean=False), 'vectorizer': CountVectorizer(max_df=400, max_features=1000, min_df=5, ngram_range=(1, 2),\n",
      "                tokenizer=<function tokenize_hebrew_text at 0x0000020451D87310>), 'vectorizer__max_features': 1000, 'vectorizer__ngram_range': (1, 2)}\n",
      "Cross-validated F1 macro mean score: 0.649\n",
      "\n",
      "--------------------------------------------------------\n",
      "\n",
      "\n",
      "-------------Grid search for MLPClassifier:-------------\n",
      "\n",
      "Fitting 5 folds for each of 3 candidates, totalling 15 fits\n"
     ]
    },
    {
     "data": {
      "text/plain": [
       "GridSearchCV(cv=StratifiedKFold(n_splits=5, random_state=None, shuffle=False),\n",
       "             estimator=Pipeline(steps=[('vectorizer', None), ('scaler', None),\n",
       "                                       ('classifier', None)]),\n",
       "             n_jobs=10,\n",
       "             param_grid={'classifier': [MLPClassifier(solver='lbfgs')],\n",
       "                         'classifier__activation': ['logistic', 'tanh', 'relu'],\n",
       "                         'classifier__alpha': [0.0001],\n",
       "                         'classifier__solver': ['lbfgs'],\n",
       "                         'scaler': [MaxAbsScaler()],\n",
       "                         'vectorizer': [TfidfVectorizer(max_features=800,\n",
       "                                                        ngram_range=(1, 2),\n",
       "                                                        tokenizer=<function tokenize_hebrew_text at 0x0000020451D87310>)],\n",
       "                         'vectorizer__max_features': [800],\n",
       "                         'vectorizer__ngram_range': [(1, 2)]},\n",
       "             scoring=make_scorer(f1_score, average=macro), verbose=1)"
      ]
     },
     "execution_count": 14,
     "metadata": {},
     "output_type": "execute_result"
    },
    {
     "name": "stdout",
     "output_type": "stream",
     "text": [
      "Best hyperparameters: {'classifier': MLPClassifier(solver='lbfgs'), 'classifier__activation': 'relu', 'classifier__alpha': 0.0001, 'classifier__solver': 'lbfgs', 'scaler': MaxAbsScaler(), 'vectorizer': TfidfVectorizer(max_features=800, ngram_range=(1, 2),\n",
      "                tokenizer=<function tokenize_hebrew_text at 0x0000020451D87310>), 'vectorizer__max_features': 800, 'vectorizer__ngram_range': (1, 2)}\n",
      "Cross-validated F1 macro mean score: 0.647\n",
      "\n",
      "--------------------------------------------------------\n",
      "\n",
      "\n",
      "-------------Grid search for LinearSVC:-------------\n",
      "\n",
      "Fitting 5 folds for each of 54 candidates, totalling 270 fits\n"
     ]
    },
    {
     "data": {
      "text/plain": [
       "GridSearchCV(cv=StratifiedKFold(n_splits=5, random_state=None, shuffle=False),\n",
       "             estimator=Pipeline(steps=[('vectorizer', None), ('scaler', None),\n",
       "                                       ('classifier', None)]),\n",
       "             n_jobs=10,\n",
       "             param_grid={'classifier': [LinearSVC(C=10, tol=0.001)],\n",
       "                         'classifier__C': [0.01, 1, 10],\n",
       "                         'classifier__penalty': ['l2'],\n",
       "                         'classifier__tol': [0.001],\n",
       "                         'scaler': [StandardScaler(with_mean=False),\n",
       "                                    MinMaxScaler(), MaxAbsScaler()],\n",
       "                         'vectorizer': [CountVectorizer(max_df=435, min_df=5,\n",
       "                                                        tokenizer=<function tokenize_hebrew_text at 0x0000020451D87310>),\n",
       "                                        TfidfVectorizer(tokenizer=<function tokenize_hebrew_text at 0x0000020451D87310>)],\n",
       "                         'vectorizer__ngram_range': [(1, 1), (1, 2), (1, 3)]},\n",
       "             scoring=make_scorer(f1_score, average=macro), verbose=1)"
      ]
     },
     "execution_count": 14,
     "metadata": {},
     "output_type": "execute_result"
    },
    {
     "name": "stdout",
     "output_type": "stream",
     "text": [
      "Best hyperparameters: {'classifier': LinearSVC(C=10, tol=0.001), 'classifier__C': 10, 'classifier__penalty': 'l2', 'classifier__tol': 0.001, 'scaler': StandardScaler(with_mean=False), 'vectorizer': CountVectorizer(max_df=435, min_df=5,\n",
      "                tokenizer=<function tokenize_hebrew_text at 0x0000020451D87310>), 'vectorizer__ngram_range': (1, 1)}\n",
      "Cross-validated F1 macro mean score: 0.653\n",
      "\n",
      "--------------------------------------------------------\n",
      "\n",
      "\n",
      "-------------Grid search for knn:-------------\n",
      "\n",
      "Fitting 5 folds for each of 144 candidates, totalling 720 fits\n"
     ]
    },
    {
     "data": {
      "text/plain": [
       "GridSearchCV(cv=StratifiedKFold(n_splits=5, random_state=None, shuffle=False),\n",
       "             estimator=Pipeline(steps=[('vectorizer', None), ('scaler', None),\n",
       "                                       ('classifier', None)]),\n",
       "             n_jobs=10,\n",
       "             param_grid={'classifier': [KNeighborsClassifier()],\n",
       "                         'classifier__n_neighbors': [5, 50],\n",
       "                         'classifier__p': [1, 2],\n",
       "                         'scaler': [StandardScaler(with_mean=False),\n",
       "                                    MinMaxScaler(), MaxAbsScaler()],\n",
       "                         'v...ntVectorizer(max_df=435, min_df=5,\n",
       "                                                        tokenizer=<function tokenize_hebrew_text at 0x0000020451D87310>),\n",
       "                                        TfidfVectorizer(max_features=1000,\n",
       "                                                        ngram_range=(1, 3),\n",
       "                                                        tokenizer=<function tokenize_hebrew_text at 0x0000020451D87310>)],\n",
       "                         'vectorizer__max_features': [None, 1000],\n",
       "                         'vectorizer__ngram_range': [(1, 1), (1, 2), (1, 3)]},\n",
       "             scoring=make_scorer(f1_score, average=macro), verbose=1)"
      ]
     },
     "execution_count": 14,
     "metadata": {},
     "output_type": "execute_result"
    },
    {
     "name": "stdout",
     "output_type": "stream",
     "text": [
      "Best hyperparameters: {'classifier': KNeighborsClassifier(), 'classifier__n_neighbors': 5, 'classifier__p': 2, 'scaler': StandardScaler(with_mean=False), 'vectorizer': TfidfVectorizer(max_features=1000, ngram_range=(1, 3),\n",
      "                tokenizer=<function tokenize_hebrew_text at 0x0000020451D87310>), 'vectorizer__max_features': 1000, 'vectorizer__ngram_range': (1, 3)}\n",
      "Cross-validated F1 macro mean score: 0.542\n",
      "\n",
      "--------------------------------------------------------\n",
      "\n",
      "\n",
      "-------------Grid search for cart:-------------\n",
      "\n",
      "Fitting 5 folds for each of 1 candidates, totalling 5 fits\n"
     ]
    },
    {
     "data": {
      "text/plain": [
       "GridSearchCV(cv=StratifiedKFold(n_splits=5, random_state=None, shuffle=False),\n",
       "             estimator=Pipeline(steps=[('vectorizer', None), ('scaler', None),\n",
       "                                       ('classifier', None)]),\n",
       "             n_jobs=10,\n",
       "             param_grid={'classifier': [DecisionTreeClassifier()],\n",
       "                         'scaler': [StandardScaler(with_mean=False)],\n",
       "                         'vectorizer': [CountVectorizer(max_df=500, min_df=5,\n",
       "                                                        ngram_range=(1, 3),\n",
       "                                                        tokenizer=<function tokenize_hebrew_text at 0x0000020451D87310>)],\n",
       "                         'vectorizer__max_features': [None],\n",
       "                         'vectorizer__ngram_range': [(1, 3)]},\n",
       "             scoring=make_scorer(f1_score, average=macro), verbose=1)"
      ]
     },
     "execution_count": 14,
     "metadata": {},
     "output_type": "execute_result"
    },
    {
     "name": "stdout",
     "output_type": "stream",
     "text": [
      "Best hyperparameters: {'classifier': DecisionTreeClassifier(), 'scaler': StandardScaler(with_mean=False), 'vectorizer': CountVectorizer(max_df=500, min_df=5, ngram_range=(1, 3),\n",
      "                tokenizer=<function tokenize_hebrew_text at 0x0000020451D87310>), 'vectorizer__max_features': None, 'vectorizer__ngram_range': (1, 3)}\n",
      "Cross-validated F1 macro mean score: 0.608\n",
      "\n",
      "--------------------------------------------------------\n",
      "\n",
      "Model: Perceptron\n",
      "Best hyperparameters: {'classifier': Perceptron(penalty='l1'), 'scaler': StandardScaler(with_mean=False), 'vectorizer': TfidfVectorizer(max_df=435, min_df=5, ngram_range=(1, 3),\n",
      "                tokenizer=<function tokenize_hebrew_text at 0x0000020451D87310>)}\n",
      "Cross-validated F1 macro mean score: 0.718\n",
      "\n",
      "--------------------------------------------------------\n",
      "\n",
      "Model: lr\n",
      "Best hyperparameters: {'classifier': LogisticRegression(class_weight='balanced'), 'classifier__penalty': 'l2', 'scaler': StandardScaler(with_mean=False), 'vectorizer': TfidfVectorizer(max_df=428, max_features=2000, min_df=5,\n",
      "                tokenizer=<function tokenize_hebrew_text at 0x0000020451D87310>), 'vectorizer__max_features': 2000, 'vectorizer__ngram_range': (1, 1)}\n",
      "Cross-validated F1 macro mean score: 0.699\n",
      "\n",
      "--------------------------------------------------------\n",
      "\n",
      "Model: nb\n",
      "Best hyperparameters: {'classifier': MultinomialNB(alpha=0.01), 'classifier__alpha': 0.01, 'scaler': StandardScaler(with_mean=False), 'vectorizer': CountVectorizer(max_df=400, max_features=1000, min_df=5, ngram_range=(1, 2),\n",
      "                tokenizer=<function tokenize_hebrew_text at 0x0000020451D87310>), 'vectorizer__max_features': 1000, 'vectorizer__ngram_range': (1, 2)}\n",
      "Cross-validated F1 macro mean score: 0.649\n",
      "\n",
      "--------------------------------------------------------\n",
      "\n",
      "Model: MLPClassifier\n",
      "Best hyperparameters: {'classifier': MLPClassifier(solver='lbfgs'), 'classifier__activation': 'relu', 'classifier__alpha': 0.0001, 'classifier__solver': 'lbfgs', 'scaler': MaxAbsScaler(), 'vectorizer': TfidfVectorizer(max_features=800, ngram_range=(1, 2),\n",
      "                tokenizer=<function tokenize_hebrew_text at 0x0000020451D87310>), 'vectorizer__max_features': 800, 'vectorizer__ngram_range': (1, 2)}\n",
      "Cross-validated F1 macro mean score: 0.647\n",
      "\n",
      "--------------------------------------------------------\n",
      "\n",
      "Model: LinearSVC\n",
      "Best hyperparameters: {'classifier': LinearSVC(C=10, tol=0.001), 'classifier__C': 10, 'classifier__penalty': 'l2', 'classifier__tol': 0.001, 'scaler': StandardScaler(with_mean=False), 'vectorizer': CountVectorizer(max_df=435, min_df=5,\n",
      "                tokenizer=<function tokenize_hebrew_text at 0x0000020451D87310>), 'vectorizer__ngram_range': (1, 1)}\n",
      "Cross-validated F1 macro mean score: 0.653\n",
      "\n",
      "--------------------------------------------------------\n",
      "\n",
      "Model: knn\n",
      "Best hyperparameters: {'classifier': KNeighborsClassifier(), 'classifier__n_neighbors': 5, 'classifier__p': 2, 'scaler': StandardScaler(with_mean=False), 'vectorizer': TfidfVectorizer(max_features=1000, ngram_range=(1, 3),\n",
      "                tokenizer=<function tokenize_hebrew_text at 0x0000020451D87310>), 'vectorizer__max_features': 1000, 'vectorizer__ngram_range': (1, 3)}\n",
      "Cross-validated F1 macro mean score: 0.542\n",
      "\n",
      "--------------------------------------------------------\n",
      "\n",
      "Model: cart\n",
      "Best hyperparameters: {'classifier': DecisionTreeClassifier(), 'scaler': StandardScaler(with_mean=False), 'vectorizer': CountVectorizer(max_df=500, min_df=5, ngram_range=(1, 3),\n",
      "                tokenizer=<function tokenize_hebrew_text at 0x0000020451D87310>), 'vectorizer__max_features': None, 'vectorizer__ngram_range': (1, 3)}\n",
      "Cross-validated F1 macro mean score: 0.608\n",
      "\n",
      "--------------------------------------------------------\n",
      "\n"
     ]
    }
   ],
   "source": [
    "# Split the data\n",
    "X = df_train[\"story\"]\n",
    "y = df_train[\"gender\"]\n",
    "X = X.apply(clean_text)\n",
    "y = y.apply(lambda x: 1 if x == 'f' else 0)  # female is 1\n",
    "\n",
    "# Define the pipeline\n",
    "pipeline = Pipeline([\n",
    "    ('vectorizer', None),\n",
    "    ('scaler', None),\n",
    "    ('classifier', None)\n",
    "])\n",
    "\n",
    "# Define the cross-validation strategy\n",
    "cv = StratifiedKFold()\n",
    "\n",
    "# Define the f1 macro scorer\n",
    "f1_macro_scorer = make_scorer(f1_score, average='macro')\n",
    "\n",
    "# Perform grid search over the models_params dictionary\n",
    "results = []\n",
    "for model_name, model_params in models_params.items():\n",
    "    print(f\"\\n-------------Grid search for {model_name}:-------------\\n\")\n",
    "    clf = GridSearchCV(pipeline, model_params, cv=cv, scoring=f1_macro_scorer, verbose=1,n_jobs=10)\n",
    "    clf.fit(X, y)\n",
    "\n",
    "    # Get the best hyperparameters\n",
    "    best_params = clf.best_params_\n",
    "\n",
    "    # Perform cross-validation with the specified scoring method\n",
    "    cv_scores = cross_val_score(clf.best_estimator_, X, y, scoring=f1_macro_scorer, cv=10)\n",
    "\n",
    "    # Calculate the mean of cv_scores\n",
    "    cv_mean_score = np.mean(cv_scores)\n",
    "\n",
    "    # Store the results\n",
    "    result = {\n",
    "        \"model_name\": model_name,\n",
    "        \"best_params\": best_params,\n",
    "        \"cv_mean_score\": cv_mean_score\n",
    "    }\n",
    "    results.append(result)\n",
    "\n",
    "    # Print the results for the current clf\n",
    "    print(f\"Best hyperparameters: {best_params}\")\n",
    "    print(f\"Cross-validated F1 macro mean score: {cv_mean_score:.3f}\") \n",
    "    print(\"\\n--------------------------------------------------------\\n\")\n",
    "\n",
    "# Print the final results\n",
    "for result in results:\n",
    "    print(f\"Model: {result['model_name']}\")\n",
    "    print(f\"Best hyperparameters: {result['best_params']}\")\n",
    "    print(f\"Cross-validated F1 macro mean score: {result['cv_mean_score']:.3f}\") \n",
    "    print(\"\\n--------------------------------------------------------\\n\")"
   ]
  },
  {
   "cell_type": "code",
   "execution_count": 15,
   "metadata": {},
   "outputs": [
    {
     "data": {
      "text/plain": [
       "Pipeline(steps=[('vectorizer',\n",
       "                 TfidfVectorizer(max_df=435, min_df=5, ngram_range=(1, 3),\n",
       "                                 tokenizer=<function tokenize_hebrew_text at 0x0000020451D87310>)),\n",
       "                ('scaler', StandardScaler(with_mean=False)),\n",
       "                ('classifier', Perceptron(penalty='l1'))])"
      ]
     },
     "execution_count": 15,
     "metadata": {},
     "output_type": "execute_result"
    },
    {
     "data": {
      "text/html": [
       "<div>\n",
       "<style scoped>\n",
       "    .dataframe tbody tr th:only-of-type {\n",
       "        vertical-align: middle;\n",
       "    }\n",
       "\n",
       "    .dataframe tbody tr th {\n",
       "        vertical-align: top;\n",
       "    }\n",
       "\n",
       "    .dataframe thead th {\n",
       "        text-align: right;\n",
       "    }\n",
       "</style>\n",
       "<table border=\"1\" class=\"dataframe\">\n",
       "  <thead>\n",
       "    <tr style=\"text-align: right;\">\n",
       "      <th></th>\n",
       "      <th>test_example_id</th>\n",
       "      <th>story</th>\n",
       "      <th>predictions</th>\n",
       "    </tr>\n",
       "  </thead>\n",
       "  <tbody>\n",
       "    <tr>\n",
       "      <th>0</th>\n",
       "      <td>0</td>\n",
       "      <td>כל קיץ אני והמשפחה נוסעים לארצות הברית לוס אנג...</td>\n",
       "      <td>m</td>\n",
       "    </tr>\n",
       "    <tr>\n",
       "      <th>1</th>\n",
       "      <td>1</td>\n",
       "      <td>הגעתי לשירות המדינה אחרי שנתיים כפעיל בתנועת \"...</td>\n",
       "      <td>m</td>\n",
       "    </tr>\n",
       "    <tr>\n",
       "      <th>2</th>\n",
       "      <td>2</td>\n",
       "      <td>אחת האהבות הגדולות שלי אלו הכלבים שלי ושל אישת...</td>\n",
       "      <td>m</td>\n",
       "    </tr>\n",
       "    <tr>\n",
       "      <th>3</th>\n",
       "      <td>3</td>\n",
       "      <td>רגע הגיוס לצבא היה הרגע הכי משמעותי עבורי, אני...</td>\n",
       "      <td>m</td>\n",
       "    </tr>\n",
       "    <tr>\n",
       "      <th>4</th>\n",
       "      <td>4</td>\n",
       "      <td>אני הגעתי לברזיל ישר מקולומביה וגם אני עשיתי ע...</td>\n",
       "      <td>m</td>\n",
       "    </tr>\n",
       "    <tr>\n",
       "      <th>318</th>\n",
       "      <td>318</td>\n",
       "      <td>בשנה האחרונה הרגשתי די תקוע בעבודה, השגרה הפכה...</td>\n",
       "      <td>m</td>\n",
       "    </tr>\n",
       "    <tr>\n",
       "      <th>319</th>\n",
       "      <td>319</td>\n",
       "      <td>אני ואילן חברים טובים מזה 20 שנה תמיד חלמנו לפ...</td>\n",
       "      <td>m</td>\n",
       "    </tr>\n",
       "    <tr>\n",
       "      <th>320</th>\n",
       "      <td>320</td>\n",
       "      <td>מידי יום שישי אני נוהג לנסוע בתחבורה ציבורית ס...</td>\n",
       "      <td>m</td>\n",
       "    </tr>\n",
       "    <tr>\n",
       "      <th>321</th>\n",
       "      <td>321</td>\n",
       "      <td>לפני מספר חודשים, בשיא התחלואה של הגל השני, עמ...</td>\n",
       "      <td>m</td>\n",
       "    </tr>\n",
       "    <tr>\n",
       "      <th>322</th>\n",
       "      <td>322</td>\n",
       "      <td>היום בו דיווחתי על גניבה של האוטו שלי. בוקר אח...</td>\n",
       "      <td>m</td>\n",
       "    </tr>\n",
       "  </tbody>\n",
       "</table>\n",
       "</div>"
      ],
      "text/plain": [
       "     test_example_id                                              story  \\\n",
       "0                  0  כל קיץ אני והמשפחה נוסעים לארצות הברית לוס אנג...   \n",
       "1                  1  הגעתי לשירות המדינה אחרי שנתיים כפעיל בתנועת \"...   \n",
       "2                  2  אחת האהבות הגדולות שלי אלו הכלבים שלי ושל אישת...   \n",
       "3                  3  רגע הגיוס לצבא היה הרגע הכי משמעותי עבורי, אני...   \n",
       "4                  4  אני הגעתי לברזיל ישר מקולומביה וגם אני עשיתי ע...   \n",
       "318              318  בשנה האחרונה הרגשתי די תקוע בעבודה, השגרה הפכה...   \n",
       "319              319  אני ואילן חברים טובים מזה 20 שנה תמיד חלמנו לפ...   \n",
       "320              320  מידי יום שישי אני נוהג לנסוע בתחבורה ציבורית ס...   \n",
       "321              321  לפני מספר חודשים, בשיא התחלואה של הגל השני, עמ...   \n",
       "322              322  היום בו דיווחתי על גניבה של האוטו שלי. בוקר אח...   \n",
       "\n",
       "    predictions  \n",
       "0             m  \n",
       "1             m  \n",
       "2             m  \n",
       "3             m  \n",
       "4             m  \n",
       "318           m  \n",
       "319           m  \n",
       "320           m  \n",
       "321           m  \n",
       "322           m  "
      ]
     },
     "execution_count": 15,
     "metadata": {},
     "output_type": "execute_result"
    }
   ],
   "source": [
    "# Update the pipeline with the best estimator\n",
    "pipeline = Pipeline([\n",
    "    ('vectorizer', TfidfVectorizer(max_df=435, min_df=5, ngram_range=(1, 3), tokenizer= tokenize_hebrew_text)),\n",
    "    ('scaler', StandardScaler(with_mean=False)),\n",
    "    ('classifier', Perceptron(penalty='l1'))\n",
    "])\n",
    "\n",
    "# # Fit the pipeline to the training data with the best estimator\n",
    "pipeline.fit(df_train['story'].apply(clean_text), y) # y is binary (1 for female)\n",
    "\n",
    "# Make predictions on the test data\n",
    "y_pred_test = pipeline.predict(df_test['story'].apply(clean_text))\n",
    "\n",
    "# Sample first and last 5 rows of df_test and predict on them\n",
    "df_pred_test_sample = pd.concat([df_test.head(), df_test.tail()])\n",
    "df_pred_test_sample['predictions'] = np.concatenate([y_pred_test[:5], y_pred_test[-5:]])\n",
    "df_pred_test_sample['predictions'] = pd.Series(y_pred_test).map({0: 'm', 1: 'f'})\n",
    "\n",
    "df_pred_test_sample"
   ]
  },
  {
   "cell_type": "code",
   "execution_count": 16,
   "metadata": {},
   "outputs": [
    {
     "name": "stdout",
     "output_type": "stream",
     "text": [
      "Best Model: Perceptron\n",
      "F1 mean Score: 0.7176\n",
      "Best Parameters:\n",
      "classifier: Perceptron(penalty='l1')\n",
      "scaler: StandardScaler(with_mean=False)\n",
      "vectorizer: TfidfVectorizer(max_df=435, min_df=5, ngram_range=(1, 3),\n",
      "                tokenizer=<function tokenize_hebrew_text at 0x0000020451D87310>)\n"
     ]
    },
    {
     "data": {
      "text/html": [
       "<div>\n",
       "<style scoped>\n",
       "    .dataframe tbody tr th:only-of-type {\n",
       "        vertical-align: middle;\n",
       "    }\n",
       "\n",
       "    .dataframe tbody tr th {\n",
       "        vertical-align: top;\n",
       "    }\n",
       "\n",
       "    .dataframe thead th {\n",
       "        text-align: right;\n",
       "    }\n",
       "</style>\n",
       "<table border=\"1\" class=\"dataframe\">\n",
       "  <thead>\n",
       "    <tr style=\"text-align: right;\">\n",
       "      <th></th>\n",
       "      <th>model_name</th>\n",
       "      <th>cv_mean_score</th>\n",
       "    </tr>\n",
       "  </thead>\n",
       "  <tbody>\n",
       "    <tr>\n",
       "      <th>0</th>\n",
       "      <td>Perceptron</td>\n",
       "      <td>0.718</td>\n",
       "    </tr>\n",
       "    <tr>\n",
       "      <th>1</th>\n",
       "      <td>lr</td>\n",
       "      <td>0.699</td>\n",
       "    </tr>\n",
       "    <tr>\n",
       "      <th>2</th>\n",
       "      <td>LinearSVC</td>\n",
       "      <td>0.653</td>\n",
       "    </tr>\n",
       "    <tr>\n",
       "      <th>3</th>\n",
       "      <td>nb</td>\n",
       "      <td>0.649</td>\n",
       "    </tr>\n",
       "    <tr>\n",
       "      <th>4</th>\n",
       "      <td>MLPClassifier</td>\n",
       "      <td>0.647</td>\n",
       "    </tr>\n",
       "    <tr>\n",
       "      <th>5</th>\n",
       "      <td>cart</td>\n",
       "      <td>0.608</td>\n",
       "    </tr>\n",
       "    <tr>\n",
       "      <th>6</th>\n",
       "      <td>knn</td>\n",
       "      <td>0.542</td>\n",
       "    </tr>\n",
       "  </tbody>\n",
       "</table>\n",
       "</div>"
      ],
      "text/plain": [
       "      model_name  cv_mean_score\n",
       "0     Perceptron          0.718\n",
       "1             lr          0.699\n",
       "2      LinearSVC          0.653\n",
       "3             nb          0.649\n",
       "4  MLPClassifier          0.647\n",
       "5           cart          0.608\n",
       "6            knn          0.542"
      ]
     },
     "execution_count": 16,
     "metadata": {},
     "output_type": "execute_result"
    }
   ],
   "source": [
    "best_result = max(results, key=lambda r: r['cv_mean_score'])\n",
    "best_model_name = best_result['model_name']\n",
    "best_params = best_result['best_params']\n",
    "f1_score = best_result['cv_mean_score']\n",
    "\n",
    "print(f\"Best Model: {best_model_name}\")\n",
    "print(f\"F1 mean Score: {f1_score:.4f}\")\n",
    "print(\"Best Parameters:\")\n",
    "for param, value in best_params.items():\n",
    "    print(f\"{param}: {value}\")\n",
    "results_table = pd.DataFrame(results)[['model_name', 'cv_mean_score']]\n",
    "results_table = results_table.sort_values(by='cv_mean_score', ascending=False).reset_index(drop=True)\n",
    "results_table"
   ]
  },
  {
   "cell_type": "markdown",
   "metadata": {},
   "source": [
    "### Save output to csv (optional)\n",
    "After you're done save your output to the 'classification_results.csv' csv file.<br/>\n",
    "We assume that the dataframe with your results contain the following columns:\n",
    "* column 1 (left column): 'test_example_id'  - the same id associated to each of the test stories to be predicted.\n",
    "* column 2 (right column): 'predicted_category' - the predicted gender value for each of the associated story. \n",
    "\n",
    "Assuming your predicted values are in the `df_predicted` dataframe, you should save you're results as following:"
   ]
  },
  {
   "cell_type": "code",
   "execution_count": 17,
   "metadata": {},
   "outputs": [],
   "source": [
    "df_pred_test_sample.to_csv('classification_results.csv',index=False)"
   ]
  }
 ],
 "metadata": {
  "celltoolbar": "Create Assignment",
  "kernelspec": {
   "display_name": "Python 3 (ipykernel)",
   "language": "python",
   "name": "python3"
  },
  "language_info": {
   "codemirror_mode": {
    "name": "ipython",
    "version": 3
   },
   "file_extension": ".py",
   "mimetype": "text/x-python",
   "name": "python",
   "nbconvert_exporter": "python",
   "pygments_lexer": "ipython3",
   "version": "3.9.13"
  }
 },
 "nbformat": 4,
 "nbformat_minor": 4
}
